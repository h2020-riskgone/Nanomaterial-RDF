{
 "cells": [
  {
   "cell_type": "code",
   "execution_count": 1,
   "metadata": {
    "colab": {
     "base_uri": "https://localhost:8080/",
     "height": 73
    },
    "id": "ZkMM05HwNn4E",
    "outputId": "6086363b-5010-49e8-f4db-51b3d4da1922"
   },
   "outputs": [
    {
     "name": "stdout",
     "output_type": "stream",
     "text": [
      "Requirement already satisfied: sparqlwrapper in /opt/conda/lib/python3.8/site-packages (2.0.0)\n",
      "Requirement already satisfied: rdflib>=6.1.1 in /opt/conda/lib/python3.8/site-packages (from sparqlwrapper) (6.3.2)\n",
      "Requirement already satisfied: pyparsing<4,>=2.1.0 in /opt/conda/lib/python3.8/site-packages (from rdflib>=6.1.1->sparqlwrapper) (3.0.9)\n",
      "Requirement already satisfied: isodate<0.7.0,>=0.6.0 in /opt/conda/lib/python3.8/site-packages (from rdflib>=6.1.1->sparqlwrapper) (0.6.1)\n",
      "Requirement already satisfied: six in /opt/conda/lib/python3.8/site-packages (from isodate<0.7.0,>=0.6.0->rdflib>=6.1.1->sparqlwrapper) (1.16.0)\n"
     ]
    }
   ],
   "source": [
    "!pip install sparqlwrapper"
   ]
  },
  {
   "cell_type": "code",
   "execution_count": 2,
   "metadata": {},
   "outputs": [],
   "source": [
    "from SPARQLWrapper import SPARQLWrapper, JSON\n",
    "\n",
    "sparqlendpoint = SPARQLWrapper(\n",
    "    \"https://nanosafety.rdf.bigcat-bioinformatics.org/sparql\"\n",
    ")"
   ]
  },
  {
   "cell_type": "code",
   "execution_count": 3,
   "metadata": {},
   "outputs": [],
   "source": [
    "import matplotlib.pyplot as plt\n",
    "%matplotlib inline"
   ]
  },
  {
   "cell_type": "code",
   "execution_count": 4,
   "metadata": {},
   "outputs": [],
   "source": [
    "import pandas as pd"
   ]
  },
  {
   "cell_type": "markdown",
   "metadata": {},
   "source": [
    "# Usefull dataframes"
   ]
  },
  {
   "cell_type": "markdown",
   "metadata": {},
   "source": [
    "### Df to map material kinds to colors"
   ]
  },
  {
   "cell_type": "code",
   "execution_count": 5,
   "metadata": {},
   "outputs": [
    {
     "data": {
      "text/html": [
       "<div>\n",
       "<style scoped>\n",
       "    .dataframe tbody tr th:only-of-type {\n",
       "        vertical-align: middle;\n",
       "    }\n",
       "\n",
       "    .dataframe tbody tr th {\n",
       "        vertical-align: top;\n",
       "    }\n",
       "\n",
       "    .dataframe thead th {\n",
       "        text-align: right;\n",
       "    }\n",
       "</style>\n",
       "<table border=\"1\" class=\"dataframe\">\n",
       "  <thead>\n",
       "    <tr style=\"text-align: right;\">\n",
       "      <th></th>\n",
       "      <th>kind</th>\n",
       "      <th>color</th>\n",
       "    </tr>\n",
       "  </thead>\n",
       "  <tbody>\n",
       "    <tr>\n",
       "      <th>0</th>\n",
       "      <td>Titanium dioxide</td>\n",
       "      <td>#f27360</td>\n",
       "    </tr>\n",
       "    <tr>\n",
       "      <th>1</th>\n",
       "      <td>Silver containing NMs</td>\n",
       "      <td>#f3c766</td>\n",
       "    </tr>\n",
       "    <tr>\n",
       "      <th>2</th>\n",
       "      <td>Silica particles</td>\n",
       "      <td>#9aaaba</td>\n",
       "    </tr>\n",
       "    <tr>\n",
       "      <th>3</th>\n",
       "      <td>Other metal (oxide) NMs</td>\n",
       "      <td>#9fc2bb</td>\n",
       "    </tr>\n",
       "    <tr>\n",
       "      <th>4</th>\n",
       "      <td>Other carbon based NMs</td>\n",
       "      <td>#bcbdc1</td>\n",
       "    </tr>\n",
       "    <tr>\n",
       "      <th>5</th>\n",
       "      <td>Carbon nanotubes</td>\n",
       "      <td>#485868</td>\n",
       "    </tr>\n",
       "  </tbody>\n",
       "</table>\n",
       "</div>"
      ],
      "text/plain": [
       "                      kind    color\n",
       "0         Titanium dioxide  #f27360\n",
       "1    Silver containing NMs  #f3c766\n",
       "2         Silica particles  #9aaaba\n",
       "3  Other metal (oxide) NMs  #9fc2bb\n",
       "4   Other carbon based NMs  #bcbdc1\n",
       "5         Carbon nanotubes  #485868"
      ]
     },
     "execution_count": 5,
     "metadata": {},
     "output_type": "execute_result"
    }
   ],
   "source": [
    "kinds = ['Titanium dioxide', 'Silver containing NMs', 'Silica particles', 'Other metal (oxide) NMs','Other carbon based NMs','Carbon nanotubes']\n",
    "colors = ['#f27360', '#f3c766','#9aaaba', '#9fc2bb','#bcbdc1', '#485868']\n",
    "\n",
    "zipped = list(zip(kinds, colors))\n",
    "\n",
    "df_c = pd.DataFrame(zipped, columns=['kind', 'color'])\n",
    "df_c"
   ]
  },
  {
   "cell_type": "code",
   "execution_count": 6,
   "metadata": {},
   "outputs": [],
   "source": [
    "more_colors = ['#6e6f71', '#f27360', '#f3c766','#9aaaba', '#9fc2bb','#bcbdc1', '#485868', '#fbe6e1', '#f5a46c']"
   ]
  },
  {
   "cell_type": "markdown",
   "metadata": {},
   "source": [
    "# Figure 3"
   ]
  },
  {
   "cell_type": "code",
   "execution_count": 7,
   "metadata": {},
   "outputs": [
    {
     "data": {
      "text/html": [
       "<div>\n",
       "<style scoped>\n",
       "    .dataframe tbody tr th:only-of-type {\n",
       "        vertical-align: middle;\n",
       "    }\n",
       "\n",
       "    .dataframe tbody tr th {\n",
       "        vertical-align: top;\n",
       "    }\n",
       "\n",
       "    .dataframe thead th {\n",
       "        text-align: right;\n",
       "    }\n",
       "</style>\n",
       "<table border=\"1\" class=\"dataframe\">\n",
       "  <thead>\n",
       "    <tr style=\"text-align: right;\">\n",
       "      <th></th>\n",
       "      <th>type</th>\n",
       "      <th>Number</th>\n",
       "      <th>Names</th>\n",
       "      <th>ERMs</th>\n",
       "    </tr>\n",
       "  </thead>\n",
       "  <tbody>\n",
       "    <tr>\n",
       "      <th>0</th>\n",
       "      <td>http://purl.enanomapper.org/onto/ENM_0000123</td>\n",
       "      <td>1</td>\n",
       "      <td>samarium oxide nanoparticle</td>\n",
       "      <td>https://nanocommons.github.io/identifiers/regi...</td>\n",
       "    </tr>\n",
       "    <tr>\n",
       "      <th>1</th>\n",
       "      <td>http://purl.bioontology.org/ontology/npo#NPO_1550</td>\n",
       "      <td>1</td>\n",
       "      <td>Fe2O3 nanoparticle</td>\n",
       "      <td>https://nanocommons.github.io/identifiers/regi...</td>\n",
       "    </tr>\n",
       "    <tr>\n",
       "      <th>2</th>\n",
       "      <td>http://purl.enanomapper.org/onto/ENM_9000205</td>\n",
       "      <td>1</td>\n",
       "      <td>zinc oxide nanoparticle NM110</td>\n",
       "      <td>https://nanocommons.github.io/identifiers/regi...</td>\n",
       "    </tr>\n",
       "    <tr>\n",
       "      <th>3</th>\n",
       "      <td>http://purl.bioontology.org/ontology/npo#NPO_354</td>\n",
       "      <td>13</td>\n",
       "      <td>multi-walled carbon nanotubes, multi-walled ca...</td>\n",
       "      <td>https://nanocommons.github.io/identifiers/regi...</td>\n",
       "    </tr>\n",
       "    <tr>\n",
       "      <th>4</th>\n",
       "      <td>http://purl.enanomapper.org/onto/ENM_0000120</td>\n",
       "      <td>1</td>\n",
       "      <td>yttrium oxide nanoparticle</td>\n",
       "      <td>https://nanocommons.github.io/identifiers/regi...</td>\n",
       "    </tr>\n",
       "    <tr>\n",
       "      <th>5</th>\n",
       "      <td>http://purl.obolibrary.org/obo/CHEBI_134404</td>\n",
       "      <td>2</td>\n",
       "      <td>graphene</td>\n",
       "      <td>https://nanocommons.github.io/identifiers/regi...</td>\n",
       "    </tr>\n",
       "    <tr>\n",
       "      <th>6</th>\n",
       "      <td>http://purl.enanomapper.org/onto/ENM_0000126</td>\n",
       "      <td>1</td>\n",
       "      <td>erbium oxide nanoparticle</td>\n",
       "      <td>https://nanocommons.github.io/identifiers/regi...</td>\n",
       "    </tr>\n",
       "    <tr>\n",
       "      <th>7</th>\n",
       "      <td>http://purl.bioontology.org/ontology/npo#NPO_1486</td>\n",
       "      <td>9</td>\n",
       "      <td>titanium dioxide nanoparticle</td>\n",
       "      <td>https://nanocommons.github.io/identifiers/regi...</td>\n",
       "    </tr>\n",
       "    <tr>\n",
       "      <th>8</th>\n",
       "      <td>http://purl.enanomapper.org/onto/ENM_9000227</td>\n",
       "      <td>1</td>\n",
       "      <td>cerium oxide NM212</td>\n",
       "      <td>https://nanocommons.github.io/identifiers/regi...</td>\n",
       "    </tr>\n",
       "    <tr>\n",
       "      <th>9</th>\n",
       "      <td>http://purl.enanomapper.org/onto/ENM_0000124</td>\n",
       "      <td>2</td>\n",
       "      <td>gadolinium oxide nanoparticle</td>\n",
       "      <td>https://nanocommons.github.io/identifiers/regi...</td>\n",
       "    </tr>\n",
       "  </tbody>\n",
       "</table>\n",
       "</div>"
      ],
      "text/plain": [
       "                                                type  Number  \\\n",
       "0       http://purl.enanomapper.org/onto/ENM_0000123       1   \n",
       "1  http://purl.bioontology.org/ontology/npo#NPO_1550       1   \n",
       "2       http://purl.enanomapper.org/onto/ENM_9000205       1   \n",
       "3   http://purl.bioontology.org/ontology/npo#NPO_354      13   \n",
       "4       http://purl.enanomapper.org/onto/ENM_0000120       1   \n",
       "5        http://purl.obolibrary.org/obo/CHEBI_134404       2   \n",
       "6       http://purl.enanomapper.org/onto/ENM_0000126       1   \n",
       "7  http://purl.bioontology.org/ontology/npo#NPO_1486       9   \n",
       "8       http://purl.enanomapper.org/onto/ENM_9000227       1   \n",
       "9       http://purl.enanomapper.org/onto/ENM_0000124       2   \n",
       "\n",
       "                                               Names  \\\n",
       "0                        samarium oxide nanoparticle   \n",
       "1                                 Fe2O3 nanoparticle   \n",
       "2                      zinc oxide nanoparticle NM110   \n",
       "3  multi-walled carbon nanotubes, multi-walled ca...   \n",
       "4                         yttrium oxide nanoparticle   \n",
       "5                                           graphene   \n",
       "6                          erbium oxide nanoparticle   \n",
       "7                      titanium dioxide nanoparticle   \n",
       "8                                 cerium oxide NM212   \n",
       "9                      gadolinium oxide nanoparticle   \n",
       "\n",
       "                                                ERMs  \n",
       "0  https://nanocommons.github.io/identifiers/regi...  \n",
       "1  https://nanocommons.github.io/identifiers/regi...  \n",
       "2  https://nanocommons.github.io/identifiers/regi...  \n",
       "3  https://nanocommons.github.io/identifiers/regi...  \n",
       "4  https://nanocommons.github.io/identifiers/regi...  \n",
       "5  https://nanocommons.github.io/identifiers/regi...  \n",
       "6  https://nanocommons.github.io/identifiers/regi...  \n",
       "7  https://nanocommons.github.io/identifiers/regi...  \n",
       "8  https://nanocommons.github.io/identifiers/regi...  \n",
       "9  https://nanocommons.github.io/identifiers/regi...  "
      ]
     },
     "metadata": {},
     "output_type": "display_data"
    }
   ],
   "source": [
    "sparqlquery = '''\n",
    "PREFIX dcterms: <http://purl.org/dc/terms/>\n",
    "PREFIX obo: <http://purl.obolibrary.org/obo/>\n",
    "\n",
    "select distinct ?materialtype (count(distinct ?ID AS ?Number)) (GROUP_CONCAT(distinct ?materialname;SEPARATOR=\", \") AS ?materialnames)  (GROUP_CONCAT(distinct ?ID;SEPARATOR=\", \") AS ?ERMs) where { \n",
    "    ?s a obo:CHEBI_59999; \n",
    "    dcterms:identifier ?ID ; \n",
    "    dcterms:title ?materialname ; \n",
    "    dcterms:type ?materialtype ; \n",
    "    dcterms:source ?source.\n",
    "} \n",
    "'''\n",
    "\n",
    "sparqlendpoint.setQuery(sparqlquery)\n",
    "sparqlendpoint.setReturnFormat(JSON)  \n",
    "results = sparqlendpoint.query().convert()\n",
    "\n",
    "df = pd.DataFrame(columns=[\"type\",\"Number\",\"Names\",\"ERMs\"])\n",
    "for result in results[\"results\"][\"bindings\"]:\n",
    "    df.loc[len(df.index)] = [result[\"materialtype\"][\"value\"],\n",
    "                             int(result[\"callret-1\"][\"value\"]),\n",
    "                             result[\"materialnames\"][\"value\"],\n",
    "                             result[\"ERMs\"][\"value\"]\n",
    "                            ]\n",
    "\n",
    "display(df.head(10))"
   ]
  },
  {
   "cell_type": "code",
   "execution_count": 8,
   "metadata": {},
   "outputs": [
    {
     "data": {
      "text/html": [
       "<div>\n",
       "<style scoped>\n",
       "    .dataframe tbody tr th:only-of-type {\n",
       "        vertical-align: middle;\n",
       "    }\n",
       "\n",
       "    .dataframe tbody tr th {\n",
       "        vertical-align: top;\n",
       "    }\n",
       "\n",
       "    .dataframe thead th {\n",
       "        text-align: right;\n",
       "    }\n",
       "</style>\n",
       "<table border=\"1\" class=\"dataframe\">\n",
       "  <thead>\n",
       "    <tr style=\"text-align: right;\">\n",
       "      <th></th>\n",
       "      <th>type</th>\n",
       "      <th>Number</th>\n",
       "      <th>Names</th>\n",
       "      <th>ERMs</th>\n",
       "    </tr>\n",
       "  </thead>\n",
       "  <tbody>\n",
       "    <tr>\n",
       "      <th>16</th>\n",
       "      <td>http://purl.obolibrary.org/obo/CHEBI_36560</td>\n",
       "      <td>1</td>\n",
       "      <td>zinc oxide microparticle</td>\n",
       "      <td>https://nanocommons.github.io/identifiers/regi...</td>\n",
       "    </tr>\n",
       "    <tr>\n",
       "      <th>22</th>\n",
       "      <td>http://purl.obolibrary.org/obo/CHEBI_33964</td>\n",
       "      <td>2</td>\n",
       "      <td>silver microparticle</td>\n",
       "      <td>https://nanocommons.github.io/identifiers/regi...</td>\n",
       "    </tr>\n",
       "    <tr>\n",
       "      <th>27</th>\n",
       "      <td>http://purl.obolibrary.org/obo/CHEBI_23377</td>\n",
       "      <td>1</td>\n",
       "      <td>copper macroparticle</td>\n",
       "      <td>https://nanocommons.github.io/identifiers/regi...</td>\n",
       "    </tr>\n",
       "  </tbody>\n",
       "</table>\n",
       "</div>"
      ],
      "text/plain": [
       "                                          type  Number  \\\n",
       "16  http://purl.obolibrary.org/obo/CHEBI_36560       1   \n",
       "22  http://purl.obolibrary.org/obo/CHEBI_33964       2   \n",
       "27  http://purl.obolibrary.org/obo/CHEBI_23377       1   \n",
       "\n",
       "                       Names  \\\n",
       "16  zinc oxide microparticle   \n",
       "22      silver microparticle   \n",
       "27      copper macroparticle   \n",
       "\n",
       "                                                 ERMs  \n",
       "16  https://nanocommons.github.io/identifiers/regi...  \n",
       "22  https://nanocommons.github.io/identifiers/regi...  \n",
       "27  https://nanocommons.github.io/identifiers/regi...  "
      ]
     },
     "execution_count": 8,
     "metadata": {},
     "output_type": "execute_result"
    }
   ],
   "source": [
    "df[df.Names.str.contains('microparticle|macroparticle')]"
   ]
  },
  {
   "cell_type": "code",
   "execution_count": 9,
   "metadata": {},
   "outputs": [],
   "source": [
    "df2 = df.copy()\n",
    "df2['kind'] = 'Other metal (oxide) NMs'\n",
    "\n",
    "df2.loc[df2[df2.Names.str.contains('nanotube')].index,'kind'] = 'Carbon nanotubes'\n",
    "df2.loc[df2[df2.Names.str.contains('printex|fullerene|graphene')].index,'kind'] = 'Other carbon based NMs'\n",
    "df2.loc[df2[df2.Names.str.contains('titanium')].index,'kind'] = 'Titanium dioxide'\n",
    "df2.loc[df2[df2.Names.str.contains('silver')].index,'kind'] = 'Silver containing NMs'\n",
    "df2.loc[df2[df2.Names.str.contains('silica')].index,'kind'] = 'Silica particles'\n",
    "\n",
    "df2 = df2.merge(df_c)"
   ]
  },
  {
   "cell_type": "code",
   "execution_count": 11,
   "metadata": {},
   "outputs": [
    {
     "data": {
      "image/png": "[encoded data removed]",
      "text/plain": [
       "<Figure size 1000x400 with 1 Axes>"
      ]
     },
     "metadata": {},
     "output_type": "display_data"
    }
   ],
   "source": [
    "df_count_all = pd.DataFrame(df2[~df2.Names.str.contains(\"microparticle|macroparticle\")].groupby(['kind', 'color']).Number.sum()).reset_index().sort_values(by=[\"Number\"],ascending=True,ignore_index=True)\n",
    "\n",
    "plt.figure(figsize=(10,4))\n",
    "plt.barh(df_count_all.kind, df_count_all.Number, color = df_count_all.color)\n",
    "plt.rc('font', size=14) \n",
    "plt.xlabel(\"Number of ENMs per group\")\n",
    "plt.show()"
   ]
  },
  {
   "cell_type": "markdown",
   "metadata": {},
   "source": [
    "# Figure 4"
   ]
  },
  {
   "cell_type": "code",
   "execution_count": null,
   "metadata": {},
   "outputs": [],
   "source": [
    "sparqlquery = '''\n",
    "PREFIX dcterms: <http://purl.org/dc/terms/>\n",
    "PREFIX owl: <http://www.w3.org/2002/07/owl#>\n",
    "PREFIX obo: <http://purl.obolibrary.org/obo/>\n",
    "PREFIX sio: <http://semanticscience.org/resource/>\n",
    "\n",
    "SELECT DISTINCT ?mie (COUNT (DISTINCT ?ID AS ?n)) (GROUP_CONCAT(DISTINCT ?mietitle;SEPARATOR=\", \") AS ?mietitles) (GROUP_CONCAT(DISTINCT ?ID;SEPARATOR=\", \") AS ?ERMs) \n",
    "WHERE { \n",
    "    ?s a obo:CHEBI_59999; \n",
    "    dcterms:identifier ?ID ; \n",
    "    dcterms:title ?materialname ; \n",
    "    sio:SIO_000636 ?mie .\n",
    "  FILTER (!regex(?materialname, \"microparticle|macroparticle\", \"i\"))\n",
    "  SERVICE <https://aopwiki.rdf.bigcat-bioinformatics.org/sparql> {\n",
    "    ?mie dc:title ?mietitle .\n",
    "  }}\n",
    "'''\n",
    "\n",
    "sparqlendpoint.setQuery(sparqlquery)\n",
    "sparqlendpoint.setReturnFormat(JSON)  \n",
    "results = sparqlendpoint.query().convert()\n",
    "\n",
    "df = pd.DataFrame(columns=[\"MIE\",\"Count\",\"MIETitles\", \"ERMS\"])\n",
    "for result in results[\"results\"][\"bindings\"]:\n",
    "    # print(result)\n",
    "    df.loc[len(df.index)] = [result[\"mie\"][\"value\"],\n",
    "                             int(result[\"callret-1\"][\"value\"]),\n",
    "                             result[\"mietitles\"][\"value\"],\n",
    "                             result[\"ERMs\"][\"value\"]\n",
    "                            ]\n",
    "df = df.drop_duplicates(subset=['ERMS'])\n",
    "df['[perc'] = df.Count/df.Count.sum()*100  \n",
    "\n",
    "df.sort_values(by=[\"MIETitles\"],ascending=False,ignore_index=True)\n",
    "\n",
    "display(df)"
   ]
  },
  {
   "cell_type": "code",
   "execution_count": null,
   "metadata": {},
   "outputs": [],
   "source": [
    "df[df.MIETitles.str.contains(\"interaction\")].MIETitles.iloc[0]"
   ]
  },
  {
   "cell_type": "code",
   "execution_count": null,
   "metadata": {},
   "outputs": [],
   "source": [
    "df.loc[4,'MIETitles'] = \"Substance interaction with the lung-\\n resident cell membrane components\""
   ]
  },
  {
   "cell_type": "code",
   "execution_count": null,
   "metadata": {},
   "outputs": [],
   "source": [
    "unique_erms = set()\n",
    "\n",
    "for erms in df.ERMS.tolist():\n",
    "    for erm in erms.split(','):\n",
    "        unique_erms.add(erm)\n",
    "\n",
    "len(unique_erms)"
   ]
  },
  {
   "cell_type": "code",
   "execution_count": null,
   "metadata": {},
   "outputs": [],
   "source": [
    "DNA_list = []\n",
    "for erm in df[df.MIETitles.str.contains(\"DNA\")].ERMS.iloc[0].split(','):\n",
    "    DNA_list.append(erm.split('00000')[1])"
   ]
  },
  {
   "cell_type": "code",
   "execution_count": null,
   "metadata": {},
   "outputs": [],
   "source": [
    "ROS_list = []\n",
    "for erm in df[df.MIETitles.str.contains(\"ROS\")].ERMS.iloc[0].split(','):\n",
    "    ROS_list.append(erm.split('00000')[1])"
   ]
  },
  {
   "cell_type": "code",
   "execution_count": null,
   "metadata": {},
   "outputs": [],
   "source": [
    "NRf2_list = []\n",
    "for erm in df[df.MIETitles.str.contains(\"NRF2\")].ERMS.iloc[0].split(','):\n",
    "    NRf2_list.append(erm.split('00000')[1])"
   ]
  },
  {
   "cell_type": "code",
   "execution_count": null,
   "metadata": {},
   "outputs": [],
   "source": [
    "total=df.Count.sum()\n",
    "\n",
    "def ERM_Count(x):\n",
    "    return '{:.0f}'.format(total*x/100)\n",
    "\n",
    "df= df.sort_values(by=[\"MIETitles\"],ascending=False,ignore_index=True)\n",
    "\n",
    "df.plot.pie(y='Count', colors = more_colors, labels=df.MIETitles, figsize=(6, 6), legend=False, ylabel='', autopct=ERM_Count, textprops={'fontsize': 12})"
   ]
  },
  {
   "cell_type": "markdown",
   "metadata": {},
   "source": [
    "# Query measurements"
   ]
  },
  {
   "cell_type": "code",
   "execution_count": null,
   "metadata": {},
   "outputs": [],
   "source": [
    "sparqlquery = '''\n",
    "PREFIX obo: <http://purl.obolibrary.org/obo/>\n",
    "PREFIX rdfs: <http://www.w3.org/2000/01/rdf-schema#>\n",
    "PREFIX bao: <http://www.bioassayontology.org/bao#>\n",
    "PREFIX sio: <http://semanticscience.org/resource/>\n",
    "PREFIX dcterms: <http://purl.org/dc/terms/>\n",
    "\n",
    "select distinct ?measurement (count (distinct ?ID AS ?n)) where {\n",
    "values(?p){(sio:has-value) (obo:STATO_0000035)}\n",
    "?s a obo:CHEBI_59999;\n",
    "dcterms:identifier ?ID ;\n",
    "dcterms:title ?materialname ; \n",
    "obo:BFO_0000056 ?mg .\n",
    "FILTER (!regex(?materialname, \"microparticle|macroparticle\", \"i\"))\n",
    "?mg bao:BAO_0000208 ?o .\n",
    "?o a bao:BAO_0000179 ;\n",
    "?p ?val ;\n",
    "rdfs:label ?measurement .\n",
    "}\n",
    "'''\n",
    "\n",
    "sparqlendpoint.setQuery(sparqlquery)\n",
    "sparqlendpoint.setReturnFormat(JSON)  \n",
    "results = sparqlendpoint.query().convert()\n",
    "\n",
    "df = pd.DataFrame(columns=[\"Shape\",\"Count\"])\n",
    "for result in results[\"results\"][\"bindings\"]:\n",
    "    df.loc[len(df.index)] = [result[\"measurement\"][\"value\"],\n",
    "                             int(result[\"callret-1\"][\"value\"])\n",
    "                            ]\n",
    "    \n",
    "df['perc'] = df.Count/83*100    \n",
    "\n",
    "display(df.sort_values(by=[\"perc\"],ascending=False,ignore_index=True))"
   ]
  },
  {
   "cell_type": "markdown",
   "metadata": {},
   "source": [
    "# Query shapes"
   ]
  },
  {
   "cell_type": "code",
   "execution_count": null,
   "metadata": {},
   "outputs": [],
   "source": [
    "sparqlquery = '''\n",
    "PREFIX obo: <http://purl.obolibrary.org/obo/>\n",
    "PREFIX rdfs: <http://www.w3.org/2000/01/rdf-schema#>\n",
    "PREFIX bao: <http://www.bioassayontology.org/bao#>\n",
    "PREFIX sio: <http://semanticscience.org/resource/>\n",
    "PREFIX dcterms: <http://purl.org/dc/terms/>\n",
    "\n",
    "select distinct ?val (count (distinct ?ID AS ?n)) (GROUP_CONCAT(distinct ?ID;SEPARATOR=\", \") AS ?ERMs) where {\n",
    "values(?p){(sio:has-value) (obo:STATO_0000035)}\n",
    "?s a obo:CHEBI_59999;\n",
    "dcterms:identifier ?ID ;\n",
    "dcterms:title ?materialname ; \n",
    "obo:BFO_0000056 ?mg .\n",
    "FILTER (!regex(?materialname, \"microparticle|macroparticle\", \"i\"))\n",
    "?mg bao:BAO_0000208 ?o .\n",
    "?o a bao:BAO_0000179 ;\n",
    "?p ?val ;\n",
    "rdfs:label ?measurement ;\n",
    "rdfs:label \"shape\"@en .\n",
    "}\n",
    "'''\n",
    "\n",
    "sparqlendpoint.setQuery(sparqlquery)\n",
    "sparqlendpoint.setReturnFormat(JSON)  \n",
    "results = sparqlendpoint.query().convert()\n",
    "\n",
    "df = pd.DataFrame(columns=[\"Shape\",\"Count\",\"ERMs\"])\n",
    "for result in results[\"results\"][\"bindings\"]:\n",
    "    df.loc[len(df.index)] = [result[\"val\"][\"value\"],\n",
    "                             int(result[\"callret-1\"][\"value\"]),\n",
    "                             result[\"ERMs\"][\"value\"]\n",
    "                            ]\n",
    "display(df)"
   ]
  },
  {
   "cell_type": "markdown",
   "metadata": {},
   "source": [
    "# Table 3"
   ]
  },
  {
   "cell_type": "code",
   "execution_count": null,
   "metadata": {},
   "outputs": [],
   "source": [
    "sparqlquery1 = '''\n",
    "PREFIX obo: <http://purl.obolibrary.org/obo/>\n",
    "PREFIX dcterms: <http://purl.org/dc/terms/>\n",
    "PREFIX bao: <http://www.bioassayontology.org/bao#>\n",
    "PREFIX sio: <http://semanticscience.org/resource/>\n",
    "\n",
    "select distinct ?measurement (count (distinct ?ID) AS ?nERMs) (MIN(?val) as ?MinVal) (MAX(?val) as ?MaxVal) (AVG(?val) as ?AvgVal) where {\n",
    "values(?p){(sio:has-value) (obo:STATO_0000035)}\n",
    "?s a obo:CHEBI_59999;\n",
    "dcterms:identifier ?ID ;\n",
    "dcterms:title ?materialname ; \n",
    "obo:BFO_0000056 ?mg .\n",
    "FILTER (!regex(?materialname, \"microparticle|macroparticle\", \"i\"))\n",
    "?mg bao:BAO_0000208 ?o .\n",
    "?o2 bao:BAO_0095000 ?o ;\n",
    "?p ?val ;\n",
    "rdfs:label ?measurement .\n",
    "}\n",
    "'''\n",
    "\n",
    "sparqlquery2 = '''\n",
    "PREFIX obo: <http://purl.obolibrary.org/obo/>\n",
    "PREFIX dcterms: <http://purl.org/dc/terms/>\n",
    "PREFIX bao: <http://www.bioassayontology.org/bao#>\n",
    "PREFIX sio: <http://semanticscience.org/resource/>\n",
    "PREFIX amb: <http://purl.enanomapper.net/>\n",
    "\n",
    "select distinct ?measurement ?medium (count (distinct ?ID AS ?nERMs)) (MIN(?val) as ?MinVal) (MAX(?val) as ?MaxVal) (AVG(?val) as ?AvgVal) where {\n",
    "values(?p){(sio:has-value) (obo:STATO_0000035)}\n",
    "?s a obo:CHEBI_59999;\n",
    "dcterms:identifier ?ID ;\n",
    "dcterms:title ?materialname ; \n",
    "obo:BFO_0000056 ?mg .\n",
    "FILTER (!regex(?materialname, \"microparticle|macroparticle\", \"i\"))\n",
    "?mg bao:BAO_0000208 ?o .\n",
    "?o2 bao:BAO_0095000 ?o ;\n",
    "?p ?val ;\n",
    "rdfs:label ?measurement ;\n",
    "rdfs:label \"normalized zeta potential\"@en .\n",
    "OPTIONAL{?o amb:has-condition ?g .}\n",
    "OPTIONAL{?g rdfs:label ?medlabel ;\n",
    "sio:has-value ?medium .}\n",
    "FILTER CONTAINS(?medium, \"water\")\n",
    "}\n",
    "'''\n",
    "\n",
    "sparqlquery3 = '''\n",
    "PREFIX obo: <http://purl.obolibrary.org/obo/>\n",
    "PREFIX dcterms: <http://purl.org/dc/terms/>\n",
    "PREFIX bao: <http://www.bioassayontology.org/bao#>\n",
    "PREFIX sio: <http://semanticscience.org/resource/>\n",
    "PREFIX amb: <http://purl.enanomapper.net/>\n",
    "\n",
    "select distinct ?measurement ?medium (count (distinct ?ID AS ?nERMs)) (MIN(?val) as ?MinVal) (MAX(?val) as ?MaxVal) (AVG(?val) as ?AvgVal) where {\n",
    "values(?p){(sio:has-value) (obo:STATO_0000035)}\n",
    "?s a obo:CHEBI_59999;\n",
    "dcterms:identifier ?ID ;\n",
    "dcterms:title ?materialname ; \n",
    "obo:BFO_0000056 ?mg .\n",
    "FILTER (!regex(?materialname, \"microparticle|macroparticle\", \"i\"))\n",
    "?mg bao:BAO_0000208 ?o .\n",
    "?o2 bao:BAO_0095000 ?o ;\n",
    "?p ?val ;\n",
    "rdfs:label ?measurement ;\n",
    "rdfs:label \"normalized hydrodynamic diameter\"@en .\n",
    "OPTIONAL{?o amb:has-condition ?g .}\n",
    "OPTIONAL{?g rdfs:label ?medlabel ;\n",
    "sio:has-value ?medium .}\n",
    "FILTER CONTAINS(?medium, \"water\")\n",
    "}\n",
    "'''\n",
    "\n",
    "sparqlendpoint.setQuery(sparqlquery1)\n",
    "sparqlendpoint.setReturnFormat(JSON)  \n",
    "results1 = sparqlendpoint.query().convert()\n",
    "\n",
    "sparqlendpoint.setQuery(sparqlquery2)\n",
    "sparqlendpoint.setReturnFormat(JSON)  \n",
    "results2 = sparqlendpoint.query().convert()\n",
    "\n",
    "sparqlendpoint.setQuery(sparqlquery3)\n",
    "sparqlendpoint.setReturnFormat(JSON)  \n",
    "results3 = sparqlendpoint.query().convert()\n",
    "\n",
    "df = pd.DataFrame(columns=[\"Measurement\",\"Medium\",\"ERMs\",\"Min\", \"Max\", \"Average\"])\n",
    "for result in results1[\"results\"][\"bindings\"]:\n",
    "    df.loc[len(df.index)] = [result[\"measurement\"][\"value\"],\n",
    "                             \"all\",\n",
    "                             int(result[\"nERMs\"][\"value\"]),\n",
    "                             float(result[\"MinVal\"][\"value\"]),\n",
    "                             float(result[\"MaxVal\"][\"value\"]),\n",
    "                             float(result[\"AvgVal\"][\"value\"])]\n",
    "    \n",
    "for result in results2[\"results\"][\"bindings\"]:\n",
    "    df.loc[len(df.index)] = [result[\"measurement\"][\"value\"],\n",
    "                             result[\"medium\"][\"value\"],\n",
    "                             int(result[\"callret-2\"][\"value\"]),\n",
    "                             float(result[\"MinVal\"][\"value\"]),\n",
    "                             float(result[\"MaxVal\"][\"value\"]),\n",
    "                             float(result[\"AvgVal\"][\"value\"])]\n",
    "    \n",
    "for result in results3[\"results\"][\"bindings\"]:\n",
    "    df.loc[len(df.index)] = [result[\"measurement\"][\"value\"],\n",
    "                             result[\"medium\"][\"value\"],\n",
    "                             int(result[\"callret-2\"][\"value\"]),\n",
    "                             float(result[\"MinVal\"][\"value\"]),\n",
    "                             float(result[\"MaxVal\"][\"value\"]),\n",
    "                             float(result[\"AvgVal\"][\"value\"])]\n",
    "\n",
    "display(df.sort_values(by=[\"Measurement\"],ascending=False,ignore_index=True))"
   ]
  },
  {
   "cell_type": "markdown",
   "metadata": {},
   "source": [
    "# Figure 5"
   ]
  },
  {
   "cell_type": "code",
   "execution_count": null,
   "metadata": {},
   "outputs": [],
   "source": [
    "sparqlquery = '''\n",
    "PREFIX obo: <http://purl.obolibrary.org/obo/>\n",
    "PREFIX dcterms: <http://purl.org/dc/terms/>\n",
    "PREFIX bao: <http://www.bioassayontology.org/bao#>\n",
    "PREFIX sio: <http://semanticscience.org/resource/>\n",
    "PREFIX amb: <http://purl.enanomapper.net/>\n",
    "\n",
    "select distinct ?measurement ?ID ?val ?materialname where {\n",
    "values(?p){(sio:has-value) (obo:STATO_0000035)}\n",
    "?s a obo:CHEBI_59999;\n",
    "    dcterms:identifier ?ID ;\n",
    "    dcterms:title ?materialname ; \n",
    "    obo:BFO_0000056 ?mg .\n",
    "FILTER (!regex(?materialname, \"microparticle|macroparticle\", \"i\"))\n",
    "?mg bao:BAO_0000208 ?o .\n",
    "?o2 bao:BAO_0095000 ?o ;\n",
    "    ?p ?val ;\n",
    "    rdfs:label ?measurement ;\n",
    "    rdfs:label \"normalized primary size\"@en .\n",
    "}\n",
    "'''\n",
    "\n",
    "sparqlendpoint.setQuery(sparqlquery)\n",
    "sparqlendpoint.setReturnFormat(JSON)  \n",
    "results1 = sparqlendpoint.query().convert()\n",
    "\n",
    "df_pz = pd.DataFrame(columns=[\"Measurement\",\"ERM\",\"Value\",\"Names\"])\n",
    "for result in results1[\"results\"][\"bindings\"]:\n",
    "    df_pz.loc[len(df_pz.index)] = [result[\"measurement\"][\"value\"],\n",
    "                             result[\"ID\"][\"value\"],\n",
    "                             float(result[\"val\"][\"value\"]),\n",
    "                                  result[\"materialname\"][\"value\"]]\n",
    "    \n",
    "df_pz[['url', 'erm']] = df_pz['ERM'].str.split('00000', 1, expand=True)\n",
    "\n",
    "display(df_pz.head(10))"
   ]
  },
  {
   "cell_type": "code",
   "execution_count": null,
   "metadata": {},
   "outputs": [],
   "source": [
    "kinds = ['0Titanium dioxide', '1Silver containing NMs', '5Silica particles', '6Other metal (oxide) NMs','2Other carbon based NMs',\n",
    "         '7Carbon nanotubes', '4Cerium oxides', '3Zinc oxides']\n",
    "colors = ['#f27360', '#f3c766','#9aaaba', '#9fc2bb','#bcbdc1', '#485868','#fbe6e1', '#f5a46c']\n",
    "\n",
    "zipped = list(zip(kinds, colors))\n",
    "\n",
    "df_c2 = pd.DataFrame(zipped, columns=['kind', 'color'])\n",
    "df_c2"
   ]
  },
  {
   "cell_type": "code",
   "execution_count": null,
   "metadata": {},
   "outputs": [],
   "source": [
    "df2 = df_pz.copy()\n",
    "df2['kind'] = '6Other metal (oxide) NMs'\n",
    "\n",
    "df2.loc[df2[df2.Names.str.contains('nanotube')].index,'kind'] = '7Carbon nanotubes'\n",
    "df2.loc[df2[df2.Names.str.contains('printex|fullerene|graphene')].index,'kind'] = '2Other carbon based NMs'\n",
    "df2.loc[df2[df2.Names.str.contains('titanium')].index,'kind'] = '0Titanium dioxide'\n",
    "df2.loc[df2[df2.Names.str.contains('silver')].index,'kind'] = '1Silver containing NMs'\n",
    "df2.loc[df2[df2.Names.str.contains('silica')].index,'kind'] = '5Silica particles'\n",
    "df2.loc[df2[df2.Names.str.contains('cerium')].index,'kind'] = '4Cerium oxides'\n",
    "df2.loc[df2[df2.Names.str.contains('zinc')].index,'kind'] = '3Zinc oxides'\n",
    "\n",
    "df2 = df2.merge(df_c2)"
   ]
  },
  {
   "cell_type": "code",
   "execution_count": null,
   "metadata": {},
   "outputs": [],
   "source": [
    "df2[\"DNA\"]='No DNA damage,o,30'"
   ]
  },
  {
   "cell_type": "code",
   "execution_count": null,
   "metadata": {},
   "outputs": [],
   "source": [
    "df2.loc[df2[df2.erm.isin(DNA_list)].index,\"DNA\"]='DNA damage,x,50'"
   ]
  },
  {
   "cell_type": "code",
   "execution_count": null,
   "metadata": {},
   "outputs": [],
   "source": [
    "df3=df2.sort_values(by=[\"kind\",\"Value\"],ascending=True,ignore_index=True).reset_index()"
   ]
  },
  {
   "cell_type": "code",
   "execution_count": null,
   "metadata": {},
   "outputs": [],
   "source": [
    "import matplotlib.pyplot as plt\n",
    "import matplotlib.patches as mpatches\n",
    "from matplotlib.lines import Line2D\n",
    "import pandas as pd\n",
    "import numpy as np\n",
    "\n",
    "plt.figure(figsize=(13,5))\n",
    "\n",
    "for dna, d in df3.groupby('DNA'):\n",
    "    label, marker, size = dna.split(',')\n",
    "    plt.scatter(x=d.index, y=d['Value'],c=d.color,s=int(size), marker=marker, label=label)\n",
    "    plt.yscale('log',base=10) \n",
    "    plt.ylabel(\"Primary size (nm)\")\n",
    "    plt.tick_params(axis='x', which='both', bottom=False, top=False, labelbottom=False) \n",
    "    plt.xlabel(\"ENM type\")\n",
    "\n",
    "# access legend objects automatically created from data\n",
    "handles, labels = plt.gca().get_legend_handles_labels()\n",
    "\n",
    "# add legend objects for colors\n",
    "for kind, color in zipped:\n",
    "    patch = mpatches.Patch(color=color, label=kind[1:])   \n",
    "    handles.append(patch)\n",
    "\n",
    "plt.legend(handles=handles, loc=4, fontsize='x-small')\n",
    "\n",
    "plt.show()"
   ]
  },
  {
   "cell_type": "markdown",
   "metadata": {},
   "source": [
    "# Table 4"
   ]
  },
  {
   "cell_type": "code",
   "execution_count": null,
   "metadata": {},
   "outputs": [],
   "source": [
    "sparqlquery = '''\n",
    "PREFIX dcterms: <http://purl.org/dc/terms/>\n",
    "PREFIX owl: <http://www.w3.org/2002/07/owl#>\n",
    "PREFIX obo: <http://purl.obolibrary.org/obo/>\n",
    "PREFIX aopo: <http://aopkb.org/aop_ontology#>\n",
    "PREFIX sio: <http://semanticscience.org/resource/>\n",
    "\n",
    "SELECT DISTINCT ?materialname ?ERM ?ke ?mie ?mietitle ?aop ?aotitle WHERE {\n",
    "    ?s a obo:CHEBI_59999 ;\n",
    "        dcterms:identifier ?ERM ;\n",
    "        dcterms:title ?materialname ;\n",
    "        sio:SIO_000001 ?ke .\n",
    "    FILTER (!regex(?materialname, \"microparticle|macroparticle\", \"i\"))\n",
    "    SERVICE <https://aopwiki.rdf.bigcat-bioinformatics.org/sparql> {\n",
    "        ?aop aopo:has_key_event ?ke ;\n",
    "            aopo:has_molecular_initiating_event ?mie ;\n",
    "            aopo:has_adverse_outcome ?ao .\n",
    "        ?mie dc:title ?mietitle .\n",
    "        ?ao dc:title ?aotitle .\n",
    "        FILTER CONTAINS(?mietitle, \"DNA\")\n",
    "        }\n",
    "    }\n",
    "'''\n",
    "\n",
    "sparqlendpoint.setQuery(sparqlquery)\n",
    "sparqlendpoint.setReturnFormat(JSON)  \n",
    "results = sparqlendpoint.query().convert()\n",
    "\n",
    "df_mie = pd.DataFrame(columns=[\"materialname\",\"ERM\",\"ke\",\"mie\",\"mietitle\",\"aop\",\"aotitle\"])\n",
    "for result in results[\"results\"][\"bindings\"]:\n",
    "    df_mie.loc[len(df_mie.index)] = [result[\"materialname\"][\"value\"],\n",
    "                                     result[\"ERM\"][\"value\"],\n",
    "                                     result[\"ke\"][\"value\"],\n",
    "                                     result[\"mie\"][\"value\"],\n",
    "                                     result[\"mietitle\"][\"value\"],\n",
    "                                     result[\"aop\"][\"value\"],\n",
    "                                     result[\"aotitle\"][\"value\"]]\n",
    "\n",
    "display(df_mie.head(5))\n"
   ]
  },
  {
   "cell_type": "code",
   "execution_count": null,
   "metadata": {},
   "outputs": [],
   "source": [
    "df_mie[df_mie.aotitle.str.contains(\"Decrease, Population growth rate\")]"
   ]
  },
  {
   "cell_type": "code",
   "execution_count": null,
   "metadata": {},
   "outputs": [],
   "source": [
    "df_mie.shape"
   ]
  },
  {
   "cell_type": "code",
   "execution_count": null,
   "metadata": {},
   "outputs": [],
   "source": [
    "df_mie.ERM.nunique()"
   ]
  },
  {
   "cell_type": "code",
   "execution_count": null,
   "metadata": {},
   "outputs": [],
   "source": [
    "df_mie.groupby([\"mietitle\",\"aotitle\"])[\"ERM\"].nunique()"
   ]
  },
  {
   "cell_type": "markdown",
   "metadata": {},
   "source": [
    "# Figure 6"
   ]
  },
  {
   "cell_type": "code",
   "execution_count": null,
   "metadata": {},
   "outputs": [],
   "source": [
    "df2 = df_mie.copy()\n",
    "df2['kind'] = 'Other metal (oxide) NMs'\n",
    "\n",
    "df2.loc[df2[df2.materialname.str.contains('nanotube')].index,'kind'] = 'Carbon nanotubes'\n",
    "df2.loc[df2[df2.materialname.str.contains('printex|fullerene|graphene')].index,'kind'] = 'Other carbon based NMs'\n",
    "df2.loc[df2[df2.materialname.str.contains('titanium')].index,'kind'] = 'Titanium dioxide'\n",
    "df2.loc[df2[df2.materialname.str.contains('silver')].index,'kind'] = 'Silver containing NMs'\n",
    "df2.loc[df2[df2.materialname.str.contains('silica')].index,'kind'] = 'Silica particles'\n",
    "\n",
    "df2 = df2.merge(df_c)\n",
    "\n",
    "display(df2.head(5))"
   ]
  },
  {
   "cell_type": "code",
   "execution_count": null,
   "metadata": {},
   "outputs": [],
   "source": [
    "df2.groupby('kind')['ERM'].nunique()"
   ]
  },
  {
   "cell_type": "code",
   "execution_count": null,
   "metadata": {},
   "outputs": [],
   "source": [
    "b = pd.DataFrame(df2.groupby(['aotitle','kind','color'])['ERM'].nunique()).reset_index()"
   ]
  },
  {
   "cell_type": "code",
   "execution_count": null,
   "metadata": {},
   "outputs": [],
   "source": [
    "import seaborn as sns\n",
    "\n",
    "colors2 = ['#bcbdc1', '#9fc2bb', '#f3c766','#f27360', '#485868']\n",
    "fig, ax = plt.subplots(figsize=(10, 6))\n",
    "sns.barplot(data=b, x=\"aotitle\", y=\"ERM\", hue=\"kind\", palette = colors2, ax=ax)\n",
    "ax.set_ylabel(\"Number of ENMs\")\n",
    "ax.set_xlabel(\"Title of adverse outcome\")\n",
    "ax.set_xticklabels(ax.get_xticklabels(), rotation=90, horizontalalignment='right')\n",
    "plt.rc('legend', fontsize=8)\n",
    "plt.legend(loc=2)\n",
    "plt.show()"
   ]
  },
  {
   "cell_type": "markdown",
   "metadata": {},
   "source": [
    "# Table S1"
   ]
  },
  {
   "cell_type": "code",
   "execution_count": 13,
   "metadata": {},
   "outputs": [
    {
     "data": {
      "text/html": [
       "<div>\n",
       "<style scoped>\n",
       "    .dataframe tbody tr th:only-of-type {\n",
       "        vertical-align: middle;\n",
       "    }\n",
       "\n",
       "    .dataframe tbody tr th {\n",
       "        vertical-align: top;\n",
       "    }\n",
       "\n",
       "    .dataframe thead th {\n",
       "        text-align: right;\n",
       "    }\n",
       "</style>\n",
       "<table border=\"1\" class=\"dataframe\">\n",
       "  <thead>\n",
       "    <tr style=\"text-align: right;\">\n",
       "      <th></th>\n",
       "      <th>ERM</th>\n",
       "      <th>Name</th>\n",
       "    </tr>\n",
       "  </thead>\n",
       "  <tbody>\n",
       "    <tr>\n",
       "      <th>0</th>\n",
       "      <td>https://nanocommons.github.io/identifiers/regi...</td>\n",
       "      <td>multi-walled carbon nanotubes</td>\n",
       "    </tr>\n",
       "    <tr>\n",
       "      <th>1</th>\n",
       "      <td>https://nanocommons.github.io/identifiers/regi...</td>\n",
       "      <td>erbium oxide nanoparticle</td>\n",
       "    </tr>\n",
       "    <tr>\n",
       "      <th>2</th>\n",
       "      <td>https://nanocommons.github.io/identifiers/regi...</td>\n",
       "      <td>Fe3O4 nanoparticle</td>\n",
       "    </tr>\n",
       "    <tr>\n",
       "      <th>3</th>\n",
       "      <td>https://nanocommons.github.io/identifiers/regi...</td>\n",
       "      <td>titanium dioxide nanoparticle</td>\n",
       "    </tr>\n",
       "    <tr>\n",
       "      <th>4</th>\n",
       "      <td>https://nanocommons.github.io/identifiers/regi...</td>\n",
       "      <td>multi-walled carbon nanotubes aerosol</td>\n",
       "    </tr>\n",
       "    <tr>\n",
       "      <th>5</th>\n",
       "      <td>https://nanocommons.github.io/identifiers/regi...</td>\n",
       "      <td>titanium dioxide nanoparticle</td>\n",
       "    </tr>\n",
       "    <tr>\n",
       "      <th>6</th>\n",
       "      <td>https://nanocommons.github.io/identifiers/regi...</td>\n",
       "      <td>zinc oxide nanoparticle NM111</td>\n",
       "    </tr>\n",
       "    <tr>\n",
       "      <th>7</th>\n",
       "      <td>https://nanocommons.github.io/identifiers/regi...</td>\n",
       "      <td>cerium oxide nanoparticle</td>\n",
       "    </tr>\n",
       "    <tr>\n",
       "      <th>8</th>\n",
       "      <td>https://nanocommons.github.io/identifiers/regi...</td>\n",
       "      <td>printex 90 carbon black nanoparticle</td>\n",
       "    </tr>\n",
       "    <tr>\n",
       "      <th>9</th>\n",
       "      <td>https://nanocommons.github.io/identifiers/regi...</td>\n",
       "      <td>silica oxide nanoparticle</td>\n",
       "    </tr>\n",
       "  </tbody>\n",
       "</table>\n",
       "</div>"
      ],
      "text/plain": [
       "                                                 ERM  \\\n",
       "0  https://nanocommons.github.io/identifiers/regi...   \n",
       "1  https://nanocommons.github.io/identifiers/regi...   \n",
       "2  https://nanocommons.github.io/identifiers/regi...   \n",
       "3  https://nanocommons.github.io/identifiers/regi...   \n",
       "4  https://nanocommons.github.io/identifiers/regi...   \n",
       "5  https://nanocommons.github.io/identifiers/regi...   \n",
       "6  https://nanocommons.github.io/identifiers/regi...   \n",
       "7  https://nanocommons.github.io/identifiers/regi...   \n",
       "8  https://nanocommons.github.io/identifiers/regi...   \n",
       "9  https://nanocommons.github.io/identifiers/regi...   \n",
       "\n",
       "                                    Name  \n",
       "0          multi-walled carbon nanotubes  \n",
       "1              erbium oxide nanoparticle  \n",
       "2                     Fe3O4 nanoparticle  \n",
       "3          titanium dioxide nanoparticle  \n",
       "4  multi-walled carbon nanotubes aerosol  \n",
       "5          titanium dioxide nanoparticle  \n",
       "6          zinc oxide nanoparticle NM111  \n",
       "7              cerium oxide nanoparticle  \n",
       "8   printex 90 carbon black nanoparticle  \n",
       "9              silica oxide nanoparticle  "
      ]
     },
     "metadata": {},
     "output_type": "display_data"
    }
   ],
   "source": [
    "sparqlquery = '''\n",
    "PREFIX dcterms: <http://purl.org/dc/terms/>\n",
    "PREFIX obo: <http://purl.obolibrary.org/obo/>\n",
    "\n",
    "select distinct ?ID ?materialname where { \n",
    "    ?s a obo:CHEBI_59999; \n",
    "    dcterms:identifier ?ID ; \n",
    "    dcterms:title ?materialname .\n",
    "} \n",
    "'''\n",
    "\n",
    "sparqlendpoint.setQuery(sparqlquery)\n",
    "sparqlendpoint.setReturnFormat(JSON)  \n",
    "results = sparqlendpoint.query().convert()\n",
    "\n",
    "df = pd.DataFrame(columns=[\"ERM\",\"Name\"])\n",
    "for result in results[\"results\"][\"bindings\"]:\n",
    "    df.loc[len(df.index)] = [result[\"ID\"][\"value\"],\n",
    "                             result[\"materialname\"][\"value\"]\n",
    "                            ]\n",
    "\n",
    "display(df.head(10))"
   ]
  },
  {
   "cell_type": "code",
   "execution_count": 18,
   "metadata": {},
   "outputs": [
    {
     "data": {
      "text/plain": [
       "Name\n",
       "27% zirconium oxide-doped cerium oxide nanoparticle    1\n",
       "78% zirconium oxide-doped cerium oxide nanoparticle    1\n",
       "Fe2O3 nanoparticle                                     1\n",
       "Fe3O4 nanoparticle                                     2\n",
       "carbon nanotubes                                       1\n",
       "cerium oxide NM212                                     1\n",
       "cerium oxide nanoparticle                              4\n",
       "cobalt oxide nanoparticle                              1\n",
       "copper macroparticle                                   1\n",
       "copper nanoparticle                                    2\n",
       "crystalline silica particles                           1\n",
       "dysprosium oxide nanoparticle                          1\n",
       "erbium oxide nanoparticle                              1\n",
       "europium oxide nanoparticle                            1\n",
       "fullerene-C60                                          1\n",
       "gadolinium oxide nanoparticle                          2\n",
       "gold nanoparticle                                      1\n",
       "graphene                                               2\n",
       "graphene oxide                                         3\n",
       "lanthanum oxide nanoparticle                           1\n",
       "manganese oxide nanoparticle                           1\n",
       "multi-walled carbon nanotubes                          8\n",
       "multi-walled carbon nanotubes aerosol                  1\n",
       "multi-walled carbon nanotubes aminated                 1\n",
       "multi-walled carbon nanotubes carboxylated             1\n",
       "multi-walled carbon nanotubes pegylated                1\n",
       "multi-walled carbon nanotubes polyethyleneimine        1\n",
       "neodymium oxide nanoparticle                           1\n",
       "polyvinylpyrrolidone-coated silver nanoparticle        2\n",
       "printex 90 carbon black nanoparticle                   1\n",
       "samarium oxide nanoparticle                            1\n",
       "silica oxide nanoparticle                              1\n",
       "silica quartz particles DQ12                           1\n",
       "silver NM300K                                          2\n",
       "silver cube nanoparticle                               1\n",
       "silver microparticle                                   2\n",
       "silver nanoparticle                                    2\n",
       "silver plate nanoparticle                              1\n",
       "single-walled carbon nanotubes                         9\n",
       "spherelike silver nanoparticle                         3\n",
       "titanium dioxide nanoparticle                          9\n",
       "ytterbium oxide nanoparticle                           1\n",
       "yttrium oxide nanoparticle                             1\n",
       "zinc oxide microparticle                               1\n",
       "zinc oxide nanoparticle                                3\n",
       "zinc oxide nanoparticle NM110                          1\n",
       "zinc oxide nanoparticle NM111                          1\n",
       "Name: ERM, dtype: int64"
      ]
     },
     "execution_count": 18,
     "metadata": {},
     "output_type": "execute_result"
    }
   ],
   "source": [
    "df.groupby([\"Name\"])[\"ERM\"].count()"
   ]
  },
  {
   "cell_type": "markdown",
   "metadata": {},
   "source": [
    "# Table S2"
   ]
  },
  {
   "cell_type": "code",
   "execution_count": null,
   "metadata": {},
   "outputs": [],
   "source": [
    "sparqlquery = '''\n",
    "PREFIX obo: <http://purl.obolibrary.org/obo/>\n",
    "PREFIX dcterms: <http://purl.org/dc/terms/>\n",
    "PREFIX bao: <http://www.bioassayontology.org/bao#>\n",
    "PREFIX sio: <http://semanticscience.org/resource/>\n",
    "\n",
    "select distinct ?measurement ?methodL (count (distinct ?ID AS ?n)) where {\n",
    "?s a obo:CHEBI_59999;\n",
    "dcterms:identifier ?ID ;\n",
    "dcterms:title ?materialname ; \n",
    "obo:BFO_0000056 ?mg .\n",
    "FILTER (!regex(?materialname, \"microparticle|macroparticle\", \"i\"))\n",
    "?mg bao:BAO_0000208 ?o .\n",
    "?o a bao:BAO_0000179 ;\n",
    "rdfs:label ?measurement .\n",
    "?assay bao:BAO_0000209 ?mg ;\n",
    "a bao:BAO_0000015 ;\n",
    "bao:BAO_0002846 ?protocol ;\n",
    "bao:BAO_0000207 ?method.\n",
    "?protocol a obo:OBI_0000272 .\n",
    "?method a bao:BAO_0000035 ;\n",
    "rdfs:label ?methodL .\n",
    "}\n",
    "'''\n",
    "\n",
    "sparqlendpoint.setQuery(sparqlquery)\n",
    "sparqlendpoint.setReturnFormat(JSON)  \n",
    "results = sparqlendpoint.query().convert()\n",
    "\n",
    "df = pd.DataFrame(columns=[\"measurement\",\"method\",\"count\"])\n",
    "for result in results[\"results\"][\"bindings\"]:\n",
    "    df.loc[len(df.index)] = [result[\"measurement\"][\"value\"],\n",
    "                             result[\"methodL\"][\"value\"],\n",
    "                             int(result[\"callret-2\"][\"value\"])\n",
    "                            ]\n",
    "display(df.sort_values(by=[\"measurement\"],ascending=True,ignore_index=True))"
   ]
  },
  {
   "cell_type": "code",
   "execution_count": null,
   "metadata": {},
   "outputs": [],
   "source": []
  }
 ],
 "metadata": {
  "colab": {
   "provenance": []
  },
  "kernelspec": {
   "display_name": "Python 3 (ipykernel)",
   "language": "python",
   "name": "python3"
  },
  "language_info": {
   "codemirror_mode": {
    "name": "ipython",
    "version": 3
   },
   "file_extension": ".py",
   "mimetype": "text/x-python",
   "name": "python",
   "nbconvert_exporter": "python",
   "pygments_lexer": "ipython3",
   "version": "3.8.13"
  }
 },
 "nbformat": 4,
 "nbformat_minor": 4
}
